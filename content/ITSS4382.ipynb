{
 "cells": [
  {
   "cell_type": "markdown",
   "metadata": {},
   "source": [
    "# Final Exam <font color='red'>PART B</font> | ITSS 4382 Applied AI/ Machine Learning"
   ]
  },
  {
   "cell_type": "markdown",
   "metadata": {},
   "source": [
    "In this part of the exam, you need to \n",
    " - write down your codes, printed results, and corresponding discussions in the cells below the questions.\n",
    " - add extra cells if needed using the \"+\" button or shortcut \"esc + b\", \"alt + enter\". You do NOT need to remove these cells upon submission.\n",
    " - copy and paste your answer back to eLearning to submit."
   ]
  },
  {
   "cell_type": "code",
   "execution_count": null,
   "metadata": {},
   "outputs": [],
   "source": [
    "YOUR_NAME = \"\""
   ]
  },
  {
   "cell_type": "code",
   "execution_count": null,
   "metadata": {},
   "outputs": [],
   "source": [
    "%matplotlib inline \n",
    "import numpy as np\n",
    "import pandas as pd\n",
    "import sklearn\n",
    "import matplotlib.pyplot as plt\n",
    "\n",
    "import warnings\n",
    "warnings.filterwarnings('ignore')"
   ]
  },
  {
   "cell_type": "markdown",
   "metadata": {},
   "source": [
    "# <font color='red'>PART B1. Gender Recognition by Speech Analysis</font> \n",
    "You need to include both codes and discussions in this coding file.\n",
    "\n",
    "\n",
    "##### Setting and Data\n",
    "This dataset is created to identify a voice as male or female, based upon acoustic properties of the voice and speech. It consists of 3,168 recorded voice samples, collected from male and female speakers. The voice samples are pre-processed by acoustic analysis, with an analyzed frequency range of 0Hz-280Hz (human vocal range).\n",
    "\n",
    "The CSV file contains 20 acoustic properties of each voice, and one outcome variable, “label”, which identifies the gender of the speaker. The detailed information is listed below (you do NOT need to read through the variable description). \n",
    "\n",
    "- meanfreq: mean frequency (in kHz)\n",
    "- sd: standard deviation of frequency\n",
    "- median: median frequency (in kHz)\n",
    "- Q25: first quantile (in kHz)\n",
    "- Q75: third quantile (in kHz)\n",
    "- IQR: interquantile range (in kHz)\n",
    "- skew: skewness (see note in specprop description)\n",
    "- kurt: kurtosis (see note in specprop description)\n",
    "- sp.ent: spectral entropy\n",
    "- sfm: spectral flatness\n",
    "- mode: mode frequency\n",
    "- centroid: frequency centroid (see specprop)\n",
    "- meanfun: average of fundamental frequency measured across acoustic signal\n",
    "- minfun: minimum fundamental frequency measured across acoustic signal\n",
    "- maxfun: maximum fundamental frequency measured across acoustic signal\n",
    "- meandom: average of dominant frequency measured across acoustic signal\n",
    "- mindom: minimum of dominant frequency measured across acoustic signal\n",
    "- maxdom: maximum of dominant frequency measured across acoustic signal\n",
    "- dfrange: range of dominant frequency measured across acoustic signal\n",
    "- modindx: modulation index. Calculated as the accumulated absolute difference between adjacent measurements of fundamental frequencies divided by the frequency range\n",
    "- label: male or female\n",
    "\n",
    "## Preliminaries\n",
    "Use the code below to load data and check the variable names.\n"
   ]
  },
  {
   "cell_type": "code",
   "execution_count": null,
   "metadata": {
    "scrolled": true
   },
   "outputs": [],
   "source": [
    "import pandas as pd\n",
    "voice = pd.read_csv('voice.csv') \n",
    "voice['label'] = voice['label'].astype('category').cat.codes\n",
    "voice.describe()"
   ]
  },
  {
   "cell_type": "markdown",
   "metadata": {},
   "source": [
    "We would like to use all other variables to predict the gender of the speaker (label). To start, we split the data using the  following code."
   ]
  },
  {
   "cell_type": "code",
   "execution_count": null,
   "metadata": {},
   "outputs": [],
   "source": [
    "from sklearn.model_selection import train_test_split\n",
    "\n",
    "X = voice.iloc[:, 0:19]\n",
    "y = voice.iloc[:, 20]\n",
    "\n",
    "X_train, X_test, y_train, y_test = train_test_split(X, y, random_state=0)"
   ]
  },
  {
   "cell_type": "markdown",
   "metadata": {},
   "source": [
    "## Q1. Scaling (8 Pts)\n",
    "\n",
    "Many machine learning methods require data scaling. In this problem, we scale our data first. \n",
    "- Use a standard scaler to scale the data properly, so that the data can be applied for **supervised learning models**.\n",
    "- Note: Use the scaled data for all classification models (i.e., Q2 – Q5)."
   ]
  },
  {
   "cell_type": "code",
   "execution_count": null,
   "metadata": {},
   "outputs": [],
   "source": [
    "\n",
    "\n",
    "\n",
    "\n",
    "\n"
   ]
  },
  {
   "cell_type": "code",
   "execution_count": null,
   "metadata": {},
   "outputs": [],
   "source": [
    "\n",
    "\n",
    "\n",
    "\n",
    "\n"
   ]
  },
  {
   "cell_type": "markdown",
   "metadata": {},
   "source": [
    "## Q2. Simple Models - Naïve Bayes and Decision Tree (10 pts)\n",
    "\n",
    "- Train a Decision Tree classifier. Let max_depth be 2, and min_samples_split be 10. Set random_state to 0. What is the training accuracy? What is the test accuracy? (5 pts)\n",
    "\n",
    "- Train a Gaussian Naïve Bayes classifier. Leave all specifications as default. What is the training accuracy? What is the test accuracy? (5 pts)\n",
    "\n"
   ]
  },
  {
   "cell_type": "code",
   "execution_count": null,
   "metadata": {},
   "outputs": [],
   "source": [
    "\n",
    "\n",
    "\n",
    "\n",
    "\n",
    "\n",
    "\n"
   ]
  },
  {
   "cell_type": "code",
   "execution_count": null,
   "metadata": {},
   "outputs": [],
   "source": [
    "\n",
    "\n",
    "\n",
    "\n",
    "\n",
    "\n",
    "\n",
    "\n"
   ]
  },
  {
   "cell_type": "markdown",
   "metadata": {},
   "source": [
    "## Q3. Logistic Regression (10 pts)\n",
    "\n",
    "- Train a logistic regression classifier and L2 regularization. Let random state be 0 and alpha be 1. What is the training accuracy? What is the test accuracy? (4 pts)\n",
    "- Report coefficient and confusion_matrix of the above model. (4 pts)\n",
    "- Suppose we want to train another logistic regression classifier with alpha = 100. Without actually training the new model, do you expect its training accuracy to be higher or lower than the previous logistic regression model (where alpha = 1)? Explain briefly.(2 pts)\n",
    "\n"
   ]
  },
  {
   "cell_type": "code",
   "execution_count": null,
   "metadata": {},
   "outputs": [],
   "source": [
    "\n",
    "\n",
    "\n",
    "\n",
    "\n",
    "\n",
    "\n"
   ]
  },
  {
   "cell_type": "code",
   "execution_count": null,
   "metadata": {},
   "outputs": [],
   "source": [
    "\n",
    "\n",
    "\n",
    "\n",
    "\n",
    "\n",
    "\n",
    "\n"
   ]
  },
  {
   "cell_type": "code",
   "execution_count": null,
   "metadata": {},
   "outputs": [],
   "source": [
    "\n",
    "\n",
    "\n",
    "\n"
   ]
  },
  {
   "cell_type": "markdown",
   "metadata": {},
   "source": [
    "## Q4. Ensemble Method I (10 pts) \n",
    "\n",
    "- Train a Random Forest model. Let n_estimators be 200, max_depth be 2, and min_samples_split be 10. Set random_state to 0. What is the training accuracy? What is the test accuracy? (4 pts)\n",
    "- Train an Adaboost classifier, where each single model is a decision tree with max_depth = 2, min_samples_split = 10, and random state = 0. let n_estimators be 200. What is the training accuracy? What is the test accuracy? (4 pts)\n",
    "- Briefly discuss the similarities and differences between the two models we trained (i.e., Random Forest and Adaboost with decision tree as base model). (2 pts)"
   ]
  },
  {
   "cell_type": "code",
   "execution_count": null,
   "metadata": {},
   "outputs": [],
   "source": [
    "\n",
    "\n",
    "\n",
    "\n",
    "\n",
    "\n",
    "\n"
   ]
  },
  {
   "cell_type": "code",
   "execution_count": null,
   "metadata": {},
   "outputs": [],
   "source": [
    "\n",
    "\n",
    "\n",
    "\n",
    "\n",
    "\n",
    "\n"
   ]
  },
  {
   "cell_type": "code",
   "execution_count": null,
   "metadata": {},
   "outputs": [],
   "source": [
    "\n",
    "\n",
    "\n",
    "\n"
   ]
  },
  {
   "cell_type": "markdown",
   "metadata": {},
   "source": [
    "# <font color='red'>PART B2: Clustering (10 pts)</font>\n",
    "\n",
    "Consider another scenario where we only collect the acoustic information and fail to collect the gender information (e.g., in an online setting, some users prefer not to disclose their gender). This case, we may consider using clustering methods to find groups of acoustic information similar to each other. \n",
    "- Apply MinMax Scaling to our data, so that the data can be applied for **unsupervised learning models.** (4 pts)\n",
    "- Hint: We do not need to split the data for unsupervised learning. Thus, the scaler should be trained on the full sample (i.e., X) rather than the training sample (i.e., X_train).\n",
    "- Train a K-Means model, set k=3, and random state = 0. (4 pts）\n",
    "- How many clusters do we have? Why? (2 pts)"
   ]
  },
  {
   "cell_type": "code",
   "execution_count": null,
   "metadata": {},
   "outputs": [],
   "source": [
    "\n",
    "\n",
    "\n",
    "\n"
   ]
  },
  {
   "cell_type": "code",
   "execution_count": null,
   "metadata": {
    "scrolled": true
   },
   "outputs": [],
   "source": [
    "\n",
    "\n",
    "\n",
    "\n",
    "\n"
   ]
  },
  {
   "cell_type": "code",
   "execution_count": null,
   "metadata": {},
   "outputs": [],
   "source": []
  },
  {
   "cell_type": "code",
   "execution_count": null,
   "metadata": {},
   "outputs": [],
   "source": []
  },
  {
   "cell_type": "code",
   "execution_count": null,
   "metadata": {},
   "outputs": [],
   "source": []
  }
 ],
 "metadata": {
  "kernelspec": {
   "display_name": "Python 3 (ipykernel)",
   "language": "python",
   "name": "python3"
  },
  "language_info": {
   "codemirror_mode": {
    "name": "ipython",
    "version": 3
   },
   "file_extension": ".py",
   "mimetype": "text/x-python",
   "name": "python",
   "nbconvert_exporter": "python",
   "pygments_lexer": "ipython3",
   "version": "3.10.16"
  }
 },
 "nbformat": 4,
 "nbformat_minor": 4
}
